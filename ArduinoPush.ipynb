{
 "cells": [
  {
   "cell_type": "code",
   "execution_count": 1,
   "metadata": {},
   "outputs": [
    {
     "ename": "KeyboardInterrupt",
     "evalue": "",
     "output_type": "error",
     "traceback": [
      "\u001b[1;31m---------------------------------------------------------------------------\u001b[0m",
      "\u001b[1;31mKeyboardInterrupt\u001b[0m                         Traceback (most recent call last)",
      "Cell \u001b[1;32mIn[1], line 22\u001b[0m\n\u001b[0;32m     18\u001b[0m cursor \u001b[38;5;241m=\u001b[39m db\u001b[38;5;241m.\u001b[39mcursor()\n\u001b[0;32m     20\u001b[0m \u001b[38;5;28;01mwhile\u001b[39;00m \u001b[38;5;28;01mTrue\u001b[39;00m:\n\u001b[0;32m     21\u001b[0m   \u001b[38;5;66;03m# Add a delay to gather data\u001b[39;00m\n\u001b[1;32m---> 22\u001b[0m   \u001b[43mtime\u001b[49m\u001b[38;5;241;43m.\u001b[39;49m\u001b[43msleep\u001b[49m\u001b[43m(\u001b[49m\u001b[38;5;241;43m1\u001b[39;49m\u001b[43m)\u001b[49m\n\u001b[0;32m     24\u001b[0m   \u001b[38;5;66;03m# Read data from Arduino\u001b[39;00m\n\u001b[0;32m     25\u001b[0m   data \u001b[38;5;241m=\u001b[39m ser\u001b[38;5;241m.\u001b[39mreadline()\u001b[38;5;241m.\u001b[39mdecode(\u001b[38;5;124m'\u001b[39m\u001b[38;5;124mutf-8\u001b[39m\u001b[38;5;124m'\u001b[39m)\u001b[38;5;241m.\u001b[39mstrip()\n",
      "\u001b[1;31mKeyboardInterrupt\u001b[0m: "
     ]
    }
   ],
   "source": [
    "import serial\n",
    "import mysql.connector\n",
    "import urllib.parse\n",
    "import time\n",
    "\n",
    "# Set up the serial connection\n",
    "ser = serial.Serial('COM3', 9600)  # Replace 'COM3' with your port number and '9600' with your baud rate\n",
    "\n",
    "# Set up the MySQL connection\n",
    "db = mysql.connector.connect(\n",
    "  host=\"sql5.freesqldatabase.com\",  # Replace with your host\n",
    "  user=\"sql5692834\",  # Replace with your username\n",
    "  password=\"XGap5HZ8V9\",  # Replace with your password\n",
    "  database=\"sql5692834\"  # Replace with your database\n",
    ")\n",
    "\n",
    "# Create a cursor object\n",
    "cursor = db.cursor()\n",
    "\n",
    "while True:\n",
    "  # Add a delay to gather data\n",
    "  time.sleep(1)\n",
    "  \n",
    "  # Read data from Arduino\n",
    "  data = ser.readline().decode('utf-8').strip()\n",
    "\n",
    "  # Parse the data\n",
    "  params = urllib.parse.parse_qs(data)\n",
    "  sensor_id = params['sensor_id'][0] \n",
    "  mean = params['mean'][0]\n",
    "  median = params['median'][0]\n",
    "  timestamp = params['timestamp'][0]\n",
    "\n",
    "  # Execute an SQL query\n",
    "  sql = \"INSERT INTO SensorReadings (Sensor_ID, MeanReading, MedianReading, Timestamp) VALUES (%s, %s, %s, %s)\"\n",
    "  val = (sensor_id, mean, median, timestamp)\n",
    "  cursor.execute(sql, val)\n",
    "\n",
    "  # Commit the transaction\n",
    "  db.commit()"
   ]
  },
  {
   "cell_type": "code",
   "execution_count": 4,
   "metadata": {},
   "outputs": [],
   "source": [
    "db.close()"
   ]
  }
 ],
 "metadata": {
  "kernelspec": {
   "display_name": "Python 3",
   "language": "python",
   "name": "python3"
  },
  "language_info": {
   "codemirror_mode": {
    "name": "ipython",
    "version": 3
   },
   "file_extension": ".py",
   "mimetype": "text/x-python",
   "name": "python",
   "nbconvert_exporter": "python",
   "pygments_lexer": "ipython3",
   "version": "3.10.7"
  }
 },
 "nbformat": 4,
 "nbformat_minor": 2
}
